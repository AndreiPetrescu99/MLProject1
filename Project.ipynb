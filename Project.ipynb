{
 "cells": [
  {
   "cell_type": "markdown",
   "id": "b9876045",
   "metadata": {},
   "source": [
    "# PROJECT 1"
   ]
  },
  {
   "cell_type": "markdown",
   "id": "fa655565",
   "metadata": {},
   "source": [
    "First let's import the reviews"
   ]
  },
  {
   "cell_type": "code",
   "execution_count": 13,
   "id": "1c21993f",
   "metadata": {},
   "outputs": [
    {
     "name": "stdout",
     "output_type": "stream",
     "text": [
      "                                       clean_comment  category\n",
      "0   family mormon have never tried explain them t...         1\n",
      "1  buddhism has very much lot compatible with chr...         1\n",
      "2  seriously don say thing first all they won get...        -1\n",
      "3  what you have learned yours and only yours wha...         0\n",
      "4  for your own benefit you may want read living ...         1\n",
      "                                          clean_text  category\n",
      "0  when modi promised “minimum government maximum...      -1.0\n",
      "1  talk all the nonsense and continue all the dra...       0.0\n",
      "2  what did just say vote for modi  welcome bjp t...       1.0\n",
      "3  asking his supporters prefix chowkidar their n...       1.0\n",
      "4  answer who among these the most powerful world...       1.0\n"
     ]
    }
   ],
   "source": [
    "import pandas as pd\n",
    "reddit_data = pd.read_csv(\"./archive/Reddit_Data.csv\")\n",
    "twitter_data = pd.read_csv(\"./archive/Twitter_data.csv\")\n",
    "print(reddit_data.head(5))\n",
    "print(twitter_data.head(5))"
   ]
  },
  {
   "cell_type": "code",
   "execution_count": 14,
   "id": "c7ddcd15",
   "metadata": {},
   "outputs": [
    {
     "name": "stdout",
     "output_type": "stream",
     "text": [
      "DA\n"
     ]
    },
    {
     "data": {
      "image/png": "[encoded data removed]",
      "text/plain": [
       "<Figure size 432x288 with 1 Axes>"
      ]
     },
     "metadata": {
      "needs_background": "light"
     },
     "output_type": "display_data"
    }
   ],
   "source": [
    "import matplotlib.pyplot as plt\n",
    "print(\"DA\")\n",
    "fig, ax = plt.subplots()\n",
    "twitter_data['category'].value_counts().plot(ax=ax, kind='bar')\n",
    "plt.show()"
   ]
  },
  {
   "cell_type": "code",
   "execution_count": 15,
   "id": "a433bf58",
   "metadata": {},
   "outputs": [
    {
     "data": {
      "image/png": "[encoded data removed]",
      "text/plain": [
       "<Figure size 432x288 with 1 Axes>"
      ]
     },
     "metadata": {
      "needs_background": "light"
     },
     "output_type": "display_data"
    }
   ],
   "source": [
    "fig, ax = plt.subplots()\n",
    "reddit_data['category'].value_counts().plot(ax=ax, kind='bar')\n",
    "plt.show()"
   ]
  },
  {
   "cell_type": "code",
   "execution_count": 16,
   "id": "660589c1",
   "metadata": {},
   "outputs": [
    {
     "name": "stdout",
     "output_type": "stream",
     "text": [
      "what you have learned yours and only yours what you want teach different focus the goal not the wrapping paper buddhism can passed others without word about the buddha \n",
      "0\n"
     ]
    }
   ],
   "source": [
    "def get_input(datafr, col_name = \"clean_comment\"):\n",
    "    X = []\n",
    "    Y = []\n",
    "    for i in range(0, int(datafr.size/2)):\n",
    "        text = datafr[col_name][i]\n",
    "        X.append(text)\n",
    "        nr = datafr['category'][i]\n",
    "        if nr != 0 and nr != 1:\n",
    "            nr = 2\n",
    "        Y.append(nr)\n",
    "    return X, Y\n",
    "\n",
    "X1, Y1 = get_input(reddit_data, col_name = \"clean_comment\")\n",
    "X2, Y2 = get_input(twitter_data, col_name = \"clean_text\")\n",
    "X = X1 + X2\n",
    "Y = Y1 + Y2\n",
    "print(X[3])\n",
    "print(Y[3])"
   ]
  },
  {
   "cell_type": "markdown",
   "id": "b8448246",
   "metadata": {},
   "source": [
    "Now we preprocces the text data (we clean the text out of punctuations, stop words and lowercase every letter)"
   ]
  },
  {
   "cell_type": "code",
   "execution_count": 17,
   "id": "48730fc4",
   "metadata": {},
   "outputs": [
    {
     "name": "stderr",
     "output_type": "stream",
     "text": [
      "[nltk_data] Downloading package punkt to\n",
      "[nltk_data]     /Users/andreipetrescu/nltk_data...\n",
      "[nltk_data]   Package punkt is already up-to-date!\n",
      "[nltk_data] Downloading package stopwords to\n",
      "[nltk_data]     /Users/andreipetrescu/nltk_data...\n",
      "[nltk_data]   Package stopwords is already up-to-date!\n"
     ]
    },
    {
     "name": "stdout",
     "output_type": "stream",
     "text": [
      "['buddhism much lot compatible christianity especially considering sin suffering almost thing suffering caused wanting things want going getting things wrong way christian would mean wanting things coincide god wanting things coincide without aid jesus buddhism could also seen proof god mighty omnipotence certainly christians lucky one christ side everyone else well many christians believe god grace salvation buddhism god way showing grace upon others would also help study things jesus said see buddha made similar claims rich man getting heaven joke basically advocating rid material possessions fact distinctly remembered jesus making someone cry someone asked achieve salvation jesus replied live like buddhist roughly translated also point buddha rarely spoke anything god theory personally knew well enough leave jesus mohamed came later remember conflict difference opinion education fun involving enlightening easier teach something prove right like intelligent design', 'seriously say thing first get complex explain normal people anyway dogmatic matter say see mechante post reason decide later life move buddhism suit identity though still get keep wisdom family treat like went weird hippy phase didncha never hear end pro tip put one wall jpg']\n"
     ]
    }
   ],
   "source": [
    "import string\n",
    "import nltk\n",
    "from nltk.corpus import stopwords\n",
    "from nltk.tokenize import word_tokenize\n",
    "\n",
    "def preprocess_data(text_list):\n",
    "\n",
    "    import ssl\n",
    "\n",
    "    try:\n",
    "        _create_unverified_https_context = ssl._create_unverified_context\n",
    "    except AttributeError:\n",
    "        pass\n",
    "    else:\n",
    "        ssl._create_default_https_context = _create_unverified_https_context\n",
    "\n",
    "    nltk.download('punkt')\n",
    "    nltk.download('stopwords')\n",
    "\n",
    "    for i in range(0, len(text_list)):\n",
    "        text_list[i] = str(text_list[i])\n",
    "        text_list[i] = text_list[i].translate(str.maketrans('', '', string.punctuation))\n",
    "    stops = set(stopwords.words('english'))\n",
    "    clean_list = []\n",
    "    for text in text_list:\n",
    "        tokenized_text = [word for word in word_tokenize(text) if word not in stops]\n",
    "        new_text = \"\"\n",
    "        begin = True\n",
    "        for token in tokenized_text:\n",
    "            if begin == True:\n",
    "                new_text = token\n",
    "                begin = False\n",
    "            else:\n",
    "                new_text = new_text + \" \" + token\n",
    "        clean_list.append(new_text)\n",
    "        \n",
    "    return clean_list\n",
    "\n",
    "\n",
    "X = preprocess_data(X)\n",
    "print(X[1:3])"
   ]
  },
  {
   "cell_type": "markdown",
   "id": "78915340",
   "metadata": {},
   "source": [
    "Convert the input text into word embeddings"
   ]
  },
  {
   "cell_type": "code",
   "execution_count": 18,
   "id": "fc8e8c98",
   "metadata": {},
   "outputs": [
    {
     "name": "stdout",
     "output_type": "stream",
     "text": [
      "[[1599 1028 1933 ...    0    0    0]\n",
      " [1373 1375 1625 ...    0    0    0]\n",
      " [ 877 1040 2291 ...    0    0    0]\n",
      " ...\n",
      " [4124 3612  288 ...    0    0    0]\n",
      " [1017  539 4083 ...    0    0    0]\n",
      " [3464 4100  632 ...    0    0    0]]\n"
     ]
    }
   ],
   "source": [
    "import tensorflow as tf\n",
    "from tensorflow.keras.preprocessing.text import one_hot\n",
    "from tensorflow.keras.preprocessing.sequence import pad_sequences\n",
    "\n",
    "vocab_size = 5000\n",
    "encoded_X = [one_hot(text, vocab_size) for text in X]\n",
    "max_length = 255\n",
    "embedded_X = pad_sequences(encoded_X, maxlen = max_length, padding = 'post')\n",
    "print(embedded_X)"
   ]
  },
  {
   "cell_type": "markdown",
   "id": "40552278-66e3-4def-bfc0-8ee69c11f2d3",
   "metadata": {},
   "source": [
    "Creating the model"
   ]
  },
  {
   "cell_type": "code",
   "execution_count": null,
   "id": "ea0b926e-414d-4ded-a8f6-38870d325aa3",
   "metadata": {},
   "outputs": [],
   "source": [
    "from tensorflow.keras.models import Sequential\n",
    "from tensorflow.keras.layers import Flatten, Embedding, Dense, Dropout\n",
    "from tensorflow.keras.metrics import Accuracy, Precision, Recall\n",
    "from tensorflow.keras.optimizers import Adam\n",
    "\n",
    "def create_model(vocab_size, max_length):\n",
    "    model = Sequential()\n",
    "    model.add(Embedding(vocab_size, 8, input_length=max_length))\n",
    "    model.add(Flatten())\n",
    "    model.add(Dense(8, activation='relu'))\n",
    "    model.add(Dense(4, activation='relu'))\n",
    "    model.add(Dense(3, activation='softmax'))\n",
    "    opt = Adam(learning_rate = 0.001)\n",
    "    model.compile(loss = 'categorical_crossentropy', optimizer=opt, metrics=['accuracy', Precision(), Recall()])\n",
    "    return model\n"
   ]
  },
  {
   "cell_type": "markdown",
   "id": "976fcb40-9ce1-4d2e-9c9e-46d2b7237236",
   "metadata": {},
   "source": [
    "Splitting data"
   ]
  },
  {
   "cell_type": "code",
   "execution_count": 20,
   "id": "542e121a-3638-42c0-bcc7-a790bcc7c5f3",
   "metadata": {},
   "outputs": [
    {
     "name": "stdout",
     "output_type": "stream",
     "text": [
      "(160183, 255)\n",
      "(160183,)\n"
     ]
    }
   ],
   "source": [
    "import numpy as np\n",
    "\n",
    "def split_data(X, Y):\n",
    "    #X = X[:int(len(Y)/10)]\n",
    "    #Y = Y[:int(len(Y)/10)]\n",
    "    p = 80\n",
    "    size = len(Y)\n",
    "    X_train = []\n",
    "    Y_train = []\n",
    "    for i in range(0, int((p*size)/100)):\n",
    "        X_train.append(X[i])\n",
    "        Y_train.append(Y[i])\n",
    "    X_train = np.array(X_train)\n",
    "    Y_train = np.array(Y_train)\n",
    "    \n",
    "    X_test = []\n",
    "    Y_test = []\n",
    "    for i in range(int((p*size)/100), size):\n",
    "        X_test.append(X[i])\n",
    "        Y_test.append(Y[i])\n",
    "    X_test = np.array(X_test)\n",
    "    Y_test = np.array(Y_test)\n",
    "    \n",
    "    return X_train, Y_train, X_test, Y_test\n",
    "\n",
    "X_train, Y_train, X_test, Y_test = split_data(embedded_X, Y)\n",
    "print(X_train.shape)\n",
    "print(Y_train.shape)\n",
    "        "
   ]
  },
  {
   "cell_type": "markdown",
   "id": "13fa35d4-26b9-4e18-8f10-fbc0c2911fda",
   "metadata": {},
   "source": [
    "Training phase"
   ]
  },
  {
   "cell_type": "code",
   "execution_count": null,
   "id": "808f2bc9-6717-40e4-8269-f6e62189d503",
   "metadata": {},
   "outputs": [],
   "source": [
    "from sklearn.model_selection import KFold\n",
    "from tensorflow.keras.utils import to_categorical\n",
    "\n",
    "inputs = np.concatenate((X_train, X_test), axis = 0)\n",
    "targets = np.concatenate((Y_train, Y_test), axis = 0)\n",
    "targets = to_categorical(targets)\n",
    "#print(targets)\n",
    "\n",
    "nr_folds = 3\n",
    "kfold = KFold(n_splits=nr_folds, shuffle=True)\n",
    "cr_fold = 1\n",
    "\n",
    "epochs = 15\n",
    "batch_size = 15\n",
    "\n",
    "acc_per_fold = []\n",
    "precision_per_fold = []\n",
    "recall_per_fold = []\n",
    "loss_per_fold = []\n",
    "\n",
    "for train, test in kfold.split(inputs, targets):\n",
    "    model = create_model(vocab_size, max_length)\n",
    "    \n",
    "    print(\"Training fold number: \" + str(cr_fold) + \"...\")\n",
    "    history = model.fit(inputs[train], targets[train], batch_size = batch_size, epochs = epochs)\n",
    "    scores = model.evaluate(inputs[test], targets[test], verbose=0)\n",
    "    print(scores)\n",
    "    \n",
    "    recall_per_fold.append(scores[3] * 100)\n",
    "    precision_per_fold.append(scores[2] * 100)\n",
    "    acc_per_fold.append(scores[1] * 100)\n",
    "    loss_per_fold.append(scores[0])\n",
    "    \n",
    "    cr_fold = cr_fold + 1\n"
   ]
  },
  {
   "cell_type": "code",
   "execution_count": null,
   "id": "cc362ad4",
   "metadata": {},
   "outputs": [],
   "source": [
    "print(\"Average scores:\")\n",
    "print(\"Accuracy: \" + str(np.mean(acc_per_fold)))\n",
    "print(\"Precision: \" + str(np.mean(precision_per_fold)))\n",
    "print(\"Recall: \" + str(np.mean(recall_per_fold)))\n",
    "print(\"Loss: \" + str(np.mean(loss_per_fold)))\n",
    "print(\"--------------------------------\")\n",
    "print(\"Scores per fold\")\n",
    "for i in range(0, len(acc_per_fold)):\n",
    "    print(\"Fold: \" + str(i+1))\n",
    "    print(\"Accuracy: \" + str(acc_per_fold[i]))\n",
    "    print(\"Precision: \" + str(precision_per_fold[i]))\n",
    "    print(\"Recall: \" + str(recall_per_fold[i]))\n",
    "    print(\"Loss: \" + str(loss_per_fold[i]))\n",
    "    print(\"--------------------------------\")"
   ]
  },
  {
   "cell_type": "markdown",
   "id": "e7386a84-4e93-436d-aecc-8dc4fa3fbcca",
   "metadata": {},
   "source": [
    "Testing"
   ]
  },
  {
   "cell_type": "code",
   "execution_count": 31,
   "id": "26476a26-3a2b-487b-97d5-c15f77346a80",
   "metadata": {},
   "outputs": [
    {
     "name": "stderr",
     "output_type": "stream",
     "text": [
      "[nltk_data] Downloading package punkt to\n",
      "[nltk_data]     C:\\Users\\Andrei\\AppData\\Roaming\\nltk_data...\n",
      "[nltk_data]   Package punkt is already up-to-date!\n",
      "[nltk_data] Downloading package stopwords to\n",
      "[nltk_data]     C:\\Users\\Andrei\\AppData\\Roaming\\nltk_data...\n",
      "[nltk_data]   Package stopwords is already up-to-date!\n"
     ]
    },
    {
     "name": "stdout",
     "output_type": "stream",
     "text": [
      "['good dogs']\n",
      "[[3351, 713]]\n",
      "[2.2974650e-10 9.9583876e-01 4.1612303e-03]\n"
     ]
    },
    {
     "data": {
      "image/png": "[encoded data removed]",
      "text/plain": [
       "<Figure size 288x288 with 2 Axes>"
      ]
     },
     "metadata": {
      "needs_background": "light"
     },
     "output_type": "display_data"
    }
   ],
   "source": [
    "input_text = 'good dogs'\n",
    "\n",
    "input_text = [input_text]\n",
    "input_text = preprocess_data(input_text)\n",
    "print(input_text)\n",
    "vocab_size = 5000\n",
    "encoded_input = [one_hot(text, vocab_size) for text in input_text]\n",
    "print(encoded_input)\n",
    "max_length = 255\n",
    "embedded_input = pad_sequences(encoded_input, maxlen = max_length, padding = 'post')\n",
    "pred = model.predict(embedded_input)\n",
    "\n",
    "print(pred[0])\n",
    "\n",
    "import seaborn as sns\n",
    "import tensorflow as tf\n",
    "classes = [0, 1, 2]\n",
    "y_pred = model.predict(X_test)\n",
    "y_pred = np.round(y_pred).astype(int)\n",
    "labels = []\n",
    "for i in range(0, len(y_pred)):\n",
    "    ok = 0\n",
    "    for j in range(0, 3):\n",
    "        if(y_pred[i][j] != 0):\n",
    "            labels.append(j)\n",
    "            ok = 1\n",
    "    if ok == 0:\n",
    "        labels.append(0)\n",
    "y_pred = labels\n",
    "\n",
    "con_mat = tf.math.confusion_matrix(labels=Y_test, predictions = y_pred).numpy()\n",
    "con_mat_norm = np.around(con_mat.astype('float') / con_mat.sum(axis=1)[:, np.newaxis], decimals = 2)\n",
    "con_mat_df = pd.DataFrame(con_mat_norm, index = classes, columns = classes)\n",
    "\n",
    "figure = plt.figure(figsize=(4, 4))\n",
    "sns.heatmap(con_mat_df, annot=True, cmap=plt.cm.Blues)\n",
    "plt.tight_layout()\n",
    "plt.ylabel(\"True\")\n",
    "plt.xlabel(\"Predicted\")\n",
    "plt.show()\n"
   ]
  },
  {
   "cell_type": "code",
   "execution_count": 46,
   "id": "7b5b2d6f-9174-4454-8530-d3fcc40ef593",
   "metadata": {},
   "outputs": [
    {
     "name": "stdout",
     "output_type": "stream",
     "text": [
      "Training fold number: 1...\n",
      "Training fold number: 2...\n",
      "Training fold number: 3...\n",
      "Training fold number: 4...\n",
      "Training fold number: 5...\n"
     ]
    }
   ],
   "source": [
    "from sklearn.neighbors import KNeighborsClassifier\n",
    "from sklearn.metrics import precision_score\n",
    "from sklearn.metrics import recall_score\n",
    "from sklearn.metrics import accuracy_score\n",
    "from sklearn.feature_extraction.text import TfidfVectorizer\n",
    "\n",
    "from sklearn.feature_extraction.text import CountVectorizer\n",
    "from tqdm import tqdm\n",
    "from sklearn.model_selection import KFold\n",
    "\n",
    "vectorizer = CountVectorizer()\n",
    "inputs = vectorizer.fit_transform(X)\n",
    "\n",
    "\n",
    "#print(inputs[:5])\n",
    "targets = np.concatenate((Y_train, Y_test), axis = 0)\n",
    "\n",
    "nr_folds = 5\n",
    "kfold = KFold(n_splits=nr_folds, shuffle=True)\n",
    "\n",
    "acc_per_fold = []\n",
    "precision_per_fold = []\n",
    "recall_per_fold = []\n",
    "\n",
    "cr_fold = 1\n",
    "\n",
    "for train, test in kfold.split(inputs, targets):\n",
    "    \n",
    "    knn = KNeighborsClassifier(n_neighbors=3)\n",
    "    print(\"Training fold number: \" + str(cr_fold) + \"...\")\n",
    "    knn.fit(inputs[train], targets[train])\n",
    "    \n",
    "    y_all_pred = knn.predict(inputs[test])\n",
    "\n",
    "    recall_per_fold.append(recall_score(targets[test], y_all_pred, average='macro'))\n",
    "    precision_per_fold.append(precision_score(targets[test], y_all_pred, average='macro'))\n",
    "    acc_per_fold.append(accuracy_score(targets[test], y_all_pred))\n",
    "    \n",
    "    cr_fold = cr_fold + 1\n",
    "\n"
   ]
  },
  {
   "cell_type": "code",
   "execution_count": 47,
   "id": "e8df5ad5-fcbe-46a1-9d32-d03603d4f0f0",
   "metadata": {},
   "outputs": [
    {
     "name": "stdout",
     "output_type": "stream",
     "text": [
      "Average scores:\n",
      "Accuracy: 0.5150902157362335\n",
      "Precision: 0.6985025818330707\n",
      "Recall: 0.49193009490623807\n",
      "--------------------------------\n",
      "Scores per fold\n",
      "Fold: 1\n",
      "Accuracy: 0.5187034909853668\n",
      "Precision: 0.696108628083065\n",
      "Recall: 0.49375026440297126\n",
      "--------------------------------\n",
      "Fold: 2\n",
      "Accuracy: 0.5104130250212255\n",
      "Precision: 0.6943495109316143\n",
      "Recall: 0.49073593138246846\n",
      "--------------------------------\n",
      "Fold: 3\n",
      "Accuracy: 0.5138590620786097\n",
      "Precision: 0.7008264569118712\n",
      "Recall: 0.49059949168795053\n",
      "--------------------------------\n",
      "Fold: 4\n",
      "Accuracy: 0.5185786345702442\n",
      "Precision: 0.6933126786246461\n",
      "Recall: 0.4934897989975813\n",
      "--------------------------------\n",
      "Fold: 5\n",
      "Accuracy: 0.513896866025721\n",
      "Precision: 0.7079156346141566\n",
      "Recall: 0.4910749880602187\n",
      "--------------------------------\n"
     ]
    }
   ],
   "source": [
    "print(\"Average scores:\")\n",
    "print(\"Accuracy: \" + str(np.mean(acc_per_fold)))\n",
    "print(\"Precision: \" + str(np.mean(precision_per_fold)))\n",
    "print(\"Recall: \" + str(np.mean(recall_per_fold)))\n",
    "print(\"--------------------------------\")\n",
    "print(\"Scores per fold\")\n",
    "for i in range(0, len(acc_per_fold)):\n",
    "    print(\"Fold: \" + str(i+1))\n",
    "    print(\"Accuracy: \" + str(acc_per_fold[i]))\n",
    "    print(\"Precision: \" + str(precision_per_fold[i]))\n",
    "    print(\"Recall: \" + str(recall_per_fold[i]))\n",
    "    print(\"--------------------------------\")"
   ]
  },
  {
   "cell_type": "code",
   "execution_count": 49,
   "id": "8f1c9352",
   "metadata": {},
   "outputs": [
    {
     "name": "stdout",
     "output_type": "stream",
     "text": [
      "[2.]\n"
     ]
    }
   ],
   "source": [
    "x = ['input to be classified']\n",
    "x = vectorizer.transform(x)\n",
    "pred = knn.predict(x)\n",
    "print(pred)"
   ]
  },
  {
   "cell_type": "code",
   "execution_count": 12,
   "id": "3ad4ca60",
   "metadata": {},
   "outputs": [
    {
     "name": "stdout",
     "output_type": "stream",
     "text": [
      "Failed to import pydot. You must install pydot and graphviz for `pydotprint` to work.\n"
     ]
    }
   ],
   "source": [
    "import pydot\n",
    "model = create_model(5000, 255)\n",
    "from tensorflow.keras.utils import plot_model\n",
    "plot_model(model, to_file='model.png')"
   ]
  },
  {
   "cell_type": "markdown",
   "id": "cf842737",
   "metadata": {},
   "source": [
    "model.summary()"
   ]
  },
  {
   "cell_type": "code",
   "execution_count": 9,
   "id": "80eb60e5",
   "metadata": {},
   "outputs": [
    {
     "name": "stdout",
     "output_type": "stream",
     "text": [
      "Model: \"sequential_4\"\n",
      "_________________________________________________________________\n",
      "Layer (type)                 Output Shape              Param #   \n",
      "=================================================================\n",
      "embedding_4 (Embedding)      (None, 255, 8)            40000     \n",
      "_________________________________________________________________\n",
      "flatten_4 (Flatten)          (None, 2040)              0         \n",
      "_________________________________________________________________\n",
      "dense_12 (Dense)             (None, 8)                 16328     \n",
      "_________________________________________________________________\n",
      "dense_13 (Dense)             (None, 4)                 36        \n",
      "_________________________________________________________________\n",
      "dense_14 (Dense)             (None, 3)                 15        \n",
      "=================================================================\n",
      "Total params: 56,379\n",
      "Trainable params: 56,379\n",
      "Non-trainable params: 0\n",
      "_________________________________________________________________\n"
     ]
    }
   ],
   "source": [
    "model.summary()"
   ]
  },
  {
   "cell_type": "code",
   "execution_count": null,
   "id": "6ae70cac",
   "metadata": {},
   "outputs": [],
   "source": []
  }
 ],
 "metadata": {
  "kernelspec": {
   "display_name": "myenv",
   "language": "python",
   "name": "myenv"
  },
  "language_info": {
   "codemirror_mode": {
    "name": "ipython",
    "version": 3
   },
   "file_extension": ".py",
   "mimetype": "text/x-python",
   "name": "python",
   "nbconvert_exporter": "python",
   "pygments_lexer": "ipython3",
   "version": "3.7.11"
  }
 },
 "nbformat": 4,
 "nbformat_minor": 5
}
